{
  "nbformat": 4,
  "nbformat_minor": 0,
  "metadata": {
    "colab": {
      "provenance": [],
      "gpuType": "T4",
      "authorship_tag": "ABX9TyO/ZhZZgR4c0y12MdI1BXsu",
      "include_colab_link": true
    },
    "kernelspec": {
      "name": "python3",
      "display_name": "Python 3"
    },
    "language_info": {
      "name": "python"
    },
    "accelerator": "GPU"
  },
  "cells": [
    {
      "cell_type": "markdown",
      "metadata": {
        "id": "view-in-github",
        "colab_type": "text"
      },
      "source": [
        "<a href=\"https://colab.research.google.com/github/sanvidhaharibhakta/Practicals/blob/main/BFS(Dynamic_input_).ipynb\" target=\"_parent\"><img src=\"https://colab.research.google.com/assets/colab-badge.svg\" alt=\"Open In Colab\"/></a>"
      ]
    },
    {
      "cell_type": "code",
      "execution_count": 1,
      "metadata": {
        "colab": {
          "base_uri": "https://localhost:8080/"
        },
        "id": "8RusfaF8xghO",
        "outputId": "462040ef-5d43-40a0-df9b-8b40621ffe72"
      },
      "outputs": [
        {
          "output_type": "stream",
          "name": "stdout",
          "text": [
            "nvcc: NVIDIA (R) Cuda compiler driver\n",
            "Copyright (c) 2005-2023 NVIDIA Corporation\n",
            "Built on Tue_Aug_15_22:02:13_PDT_2023\n",
            "Cuda compilation tools, release 12.2, V12.2.140\n",
            "Build cuda_12.2.r12.2/compiler.33191640_0\n"
          ]
        }
      ],
      "source": [
        "!nvcc --version"
      ]
    },
    {
      "cell_type": "code",
      "source": [
        "!pip install git+https://github.com/afnan47/cuda.git"
      ],
      "metadata": {
        "colab": {
          "base_uri": "https://localhost:8080/"
        },
        "id": "0W3G9PogyNlk",
        "outputId": "771159c7-03bd-417a-94d3-5eb5ae3d23e9"
      },
      "execution_count": 1,
      "outputs": [
        {
          "output_type": "stream",
          "name": "stdout",
          "text": [
            "Collecting git+https://github.com/afnan47/cuda.git\n",
            "  Cloning https://github.com/afnan47/cuda.git to /tmp/pip-req-build-pl24zdve\n",
            "  Running command git clone --filter=blob:none --quiet https://github.com/afnan47/cuda.git /tmp/pip-req-build-pl24zdve\n",
            "  Resolved https://github.com/afnan47/cuda.git to commit aac710a35f52bb78ab34d2e52517237941399eff\n",
            "  Preparing metadata (setup.py) ... \u001b[?25l\u001b[?25hdone\n",
            "Building wheels for collected packages: NVCCPlugin\n",
            "  Building wheel for NVCCPlugin (setup.py) ... \u001b[?25l\u001b[?25hdone\n",
            "  Created wheel for NVCCPlugin: filename=NVCCPlugin-0.0.2-py3-none-any.whl size=4289 sha256=dbb9b23942cfcf8dcdf4b0aca26fb36ef6042e9139b81021b0707d1e72177943\n",
            "  Stored in directory: /tmp/pip-ephem-wheel-cache-7ovv0at_/wheels/aa/f3/44/e10c1d226ec561d971fcd4b0463f6bff08602afa928a3e7bc7\n",
            "Successfully built NVCCPlugin\n",
            "Installing collected packages: NVCCPlugin\n",
            "Successfully installed NVCCPlugin-0.0.2\n"
          ]
        }
      ]
    },
    {
      "cell_type": "code",
      "source": [
        "%load_ext nvcc_plugin"
      ],
      "metadata": {
        "colab": {
          "base_uri": "https://localhost:8080/"
        },
        "id": "4qY1u2n0yYEb",
        "outputId": "e3ad04c5-95fa-4bec-e53f-8eaaf7bb0e18"
      },
      "execution_count": 7,
      "outputs": [
        {
          "output_type": "stream",
          "name": "stdout",
          "text": [
            "The nvcc_plugin extension is already loaded. To reload it, use:\n",
            "  %reload_ext nvcc_plugin\n"
          ]
        }
      ]
    },
    {
      "cell_type": "code",
      "source": [
        "%%writefile breadthfirst.cu\n",
        "#include <iostream>\n",
        "#include <queue>\n",
        "#include <vector>\n",
        "#include <omp.h>\n",
        "using namespace std;\n",
        "int main() {\n",
        "int num_vertices, num_edges, source;\n",
        "cout << \"Enter number of vertices, edges, and source node: \";\n",
        "cin >> num_vertices >> num_edges >> source;\n",
        "// Input validation\n",
        "if (source < 1 || source > num_vertices) {\n",
        "cout << \"Invalid source node!\" << endl;\n",
        "return 1;\n",
        "}\n",
        "vector<vector<int>> adj_list(num_vertices + 1);\n",
        "for (int i = 0; i < num_edges; i++) {\n",
        "int u, v;\n",
        "cin >> u >> v;\n",
        "// Input validation for edges\n",
        "if (u < 1 || u > num_vertices || v < 1 || v > num_vertices) {\n",
        "cout << \"Invalid edge: \" << u << \" \" << v << endl;\n",
        "return 1;\n",
        "}\n",
        "adj_list[u].push_back(v);\n",
        "adj_list[v].push_back(u);\n",
        "}\n",
        "queue<int> q;\n",
        "vector<bool> visited(num_vertices + 1, false);\n",
        "q.push(source);\n",
        "visited[source] = true;\n",
        "while (!q.empty()) {\n",
        "int curr_vertex = q.front();\n",
        "q.pop();\n",
        "cout << curr_vertex << \" \";\n",
        "// Sequential loop for neighbors\n",
        "for (int i = 0; i < adj_list[curr_vertex].size(); i++) {\n",
        "int neighbour = adj_list[curr_vertex][i];\n",
        "if (!visited[neighbour]) {\n",
        "visited[neighbour] = true;\n",
        "q.push(neighbour);\n",
        "}\n",
        "}\n",
        "}\n",
        "cout << endl;\n",
        "return 0;\n",
        "}"
      ],
      "metadata": {
        "colab": {
          "base_uri": "https://localhost:8080/"
        },
        "id": "YXUAvNwwzU8E",
        "outputId": "c5c20845-4ec7-4e4f-b09d-526e3d3fafbb"
      },
      "execution_count": 12,
      "outputs": [
        {
          "output_type": "stream",
          "name": "stdout",
          "text": [
            "Overwriting breadthfirst.cu\n"
          ]
        }
      ]
    },
    {
      "cell_type": "code",
      "source": [
        "!nvcc breadthfirst.cu -o breadthfirst"
      ],
      "metadata": {
        "id": "6jo2pihp00n7"
      },
      "execution_count": 13,
      "outputs": []
    },
    {
      "cell_type": "code",
      "source": [
        "!./breadthfirst"
      ],
      "metadata": {
        "colab": {
          "base_uri": "https://localhost:8080/"
        },
        "id": "EWSh4yg308HE",
        "outputId": "a01299d3-0e18-41a9-aba9-aa5db5e8ee6d"
      },
      "execution_count": 14,
      "outputs": [
        {
          "output_type": "stream",
          "name": "stdout",
          "text": [
            "Enter number of vertices, edges, and source node: 6 5 3\n",
            "3 2\n",
            "3 5\n",
            "2 1\n",
            "5 4\n",
            "5 6\n",
            "3 2 5 1 4 6 \n"
          ]
        }
      ]
    }
  ]
}