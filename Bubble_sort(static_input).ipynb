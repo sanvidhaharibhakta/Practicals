{
  "nbformat": 4,
  "nbformat_minor": 0,
  "metadata": {
    "colab": {
      "provenance": [],
      "gpuType": "T4",
      "authorship_tag": "ABX9TyM+mxjRwzriimkHTHISZmwe",
      "include_colab_link": true
    },
    "kernelspec": {
      "name": "python3",
      "display_name": "Python 3"
    },
    "language_info": {
      "name": "python"
    },
    "accelerator": "GPU"
  },
  "cells": [
    {
      "cell_type": "markdown",
      "metadata": {
        "id": "view-in-github",
        "colab_type": "text"
      },
      "source": [
        "<a href=\"https://colab.research.google.com/github/sanvidhaharibhakta/Practicals/blob/main/Bubble_sort(static_input).ipynb\" target=\"_parent\"><img src=\"https://colab.research.google.com/assets/colab-badge.svg\" alt=\"Open In Colab\"/></a>"
      ]
    },
    {
      "cell_type": "code",
      "execution_count": 1,
      "metadata": {
        "colab": {
          "base_uri": "https://localhost:8080/"
        },
        "id": "HLcXBzz7vcHD",
        "outputId": "982bd768-821c-47e3-f0b2-dc7f8f65d6c8"
      },
      "outputs": [
        {
          "output_type": "stream",
          "name": "stdout",
          "text": [
            "nvcc: NVIDIA (R) Cuda compiler driver\n",
            "Copyright (c) 2005-2023 NVIDIA Corporation\n",
            "Built on Tue_Aug_15_22:02:13_PDT_2023\n",
            "Cuda compilation tools, release 12.2, V12.2.140\n",
            "Build cuda_12.2.r12.2/compiler.33191640_0\n"
          ]
        }
      ],
      "source": [
        "!nvcc --version"
      ]
    },
    {
      "cell_type": "code",
      "source": [
        "!pip install git+https://github.com/afnan47/cuda.git"
      ],
      "metadata": {
        "colab": {
          "base_uri": "https://localhost:8080/"
        },
        "id": "9zA-S8TnvzhW",
        "outputId": "bc2b414f-13ef-49be-961f-862977a72a10"
      },
      "execution_count": 2,
      "outputs": [
        {
          "output_type": "stream",
          "name": "stdout",
          "text": [
            "Collecting git+https://github.com/afnan47/cuda.git\n",
            "  Cloning https://github.com/afnan47/cuda.git to /tmp/pip-req-build-pv6pl6lc\n",
            "  Running command git clone --filter=blob:none --quiet https://github.com/afnan47/cuda.git /tmp/pip-req-build-pv6pl6lc\n",
            "  Resolved https://github.com/afnan47/cuda.git to commit aac710a35f52bb78ab34d2e52517237941399eff\n",
            "  Preparing metadata (setup.py) ... \u001b[?25l\u001b[?25hdone\n",
            "Building wheels for collected packages: NVCCPlugin\n",
            "  Building wheel for NVCCPlugin (setup.py) ... \u001b[?25l\u001b[?25hdone\n",
            "  Created wheel for NVCCPlugin: filename=NVCCPlugin-0.0.2-py3-none-any.whl size=4289 sha256=1676fe5a27f88cfdcf54ec9eaea0a882ec79d52744665f50e5ffd80e3fc568fe\n",
            "  Stored in directory: /tmp/pip-ephem-wheel-cache-0pam9vy4/wheels/aa/f3/44/e10c1d226ec561d971fcd4b0463f6bff08602afa928a3e7bc7\n",
            "Successfully built NVCCPlugin\n",
            "Installing collected packages: NVCCPlugin\n",
            "Successfully installed NVCCPlugin-0.0.2\n"
          ]
        }
      ]
    },
    {
      "cell_type": "code",
      "source": [
        "%load_ext nvcc_plugin"
      ],
      "metadata": {
        "colab": {
          "base_uri": "https://localhost:8080/"
        },
        "id": "8SMG6RPGwPgR",
        "outputId": "a2ceb712-04e0-46b3-f97f-457e4f25f071"
      },
      "execution_count": 3,
      "outputs": [
        {
          "output_type": "stream",
          "name": "stdout",
          "text": [
            "created output directory at /content/src\n",
            "Out bin /content/result.out\n"
          ]
        }
      ]
    },
    {
      "cell_type": "code",
      "source": [
        "%%writefile bubblesort.cu\n",
        "\n",
        "#include <iostream>\n",
        "#include <vector>\n",
        "#include <chrono>\n",
        "#include <cuda_runtime.h>\n",
        "\n",
        "// CUDA kernel for Bubble Sort\n",
        "__global__ void bubble_sort(int* d_arr, int size) {\n",
        "    int idx = blockIdx.x * blockDim.x + threadIdx.x; // Thread index\n",
        "    for (int i = 0; i < size - 1; i++) {\n",
        "        int j = idx + i; // Offset to perform the bubble sort step\n",
        "        if (j < size - 1 && d_arr[j] > d_arr[j + 1]) { // Swap if out of order\n",
        "            int temp = d_arr[j];\n",
        "            d_arr[j] = d_arr[j + 1];\n",
        "            d_arr[j + 1] = temp;\n",
        "        }\n",
        "        __syncthreads(); // Synchronize threads within block\n",
        "    }\n",
        "}\n",
        "\n",
        "// Function for Bubble Sort on CPU\n",
        "void bubble_sort_cpu(int* arr, int size) {\n",
        "    for (int i = 0; i < size - 1; i++) {\n",
        "        for (int j = 0; j < size - 1 - i; j++) {\n",
        "            if (arr[j] > arr[j + 1]) { // Swap if out of order\n",
        "                int temp = arr[j];\n",
        "                arr[j] = arr[j + 1];\n",
        "                arr[j + 1] = temp;\n",
        "            }\n",
        "        }\n",
        "    }\n",
        "}\n",
        "\n",
        "int main() {\n",
        "    // Test data\n",
        "    int h_arr[] = {64, 34, 25, 12, 22, 11, 90};\n",
        "    int size = sizeof(h_arr) / sizeof(h_arr[0]);\n",
        "\n",
        "    // Bubble Sort on CPU\n",
        "    auto start = std::chrono::high_resolution_clock::now();\n",
        "    bubble_sort_cpu(h_arr, size);\n",
        "    auto end = std::chrono::high_resolution_clock::now();\n",
        "    std::chrono::duration<double> duration = end - start;\n",
        "    std::cout << \"Sequential Bubble Sort took \" << duration.count() << \" seconds\\n\";\n",
        "\n",
        "    // Copying data to the device for parallel Bubble Sort\n",
        "    int* d_arr;\n",
        "    cudaMalloc(&d_arr, size * sizeof(int));\n",
        "    cudaMemcpy(d_arr, h_arr, size * sizeof(int), cudaMemcpyHostToDevice);\n",
        "\n",
        "    // Bubble Sort on GPU\n",
        "    start = std::chrono::high_resolution_clock::now();\n",
        "    int blockSize = 256; // Threads per block\n",
        "    int gridSize = (size + blockSize - 1) / blockSize; // Blocks\n",
        "    bubble_sort<<<gridSize, blockSize>>>(d_arr, size);\n",
        "    cudaMemcpy(h_arr, d_arr, size * sizeof(int), cudaMemcpyDeviceToHost); // Copy back to host\n",
        "    end = std::chrono::high_resolution_clock::now();\n",
        "    duration = end - start;\n",
        "    std::cout << \"Parallel Bubble Sort took \" << duration.count() << \" seconds\\n\";\n",
        "\n",
        "    // Display sorted array\n",
        "    std::cout << \"Sorted Array: \";\n",
        "    for (int i = 0; i < size; i++) {\n",
        "        std::cout << h_arr[i] << \" \";\n",
        "    }\n",
        "    std::cout << std::endl;\n",
        "\n",
        "    // Free device memory\n",
        "    cudaFree(d_arr);\n",
        "\n",
        "    return 0;\n",
        "}"
      ],
      "metadata": {
        "colab": {
          "base_uri": "https://localhost:8080/"
        },
        "id": "DSHq-UE9wqt4",
        "outputId": "a25ef6ca-f0d4-4b3b-d8c2-5cb6ae3ae481"
      },
      "execution_count": 6,
      "outputs": [
        {
          "output_type": "stream",
          "name": "stdout",
          "text": [
            "Writing bubblesort.cu\n"
          ]
        }
      ]
    },
    {
      "cell_type": "code",
      "source": [
        "!nvcc bubblesort.cu -o bubblesort"
      ],
      "metadata": {
        "id": "QGh40WAKwbfk"
      },
      "execution_count": 8,
      "outputs": []
    },
    {
      "cell_type": "code",
      "source": [
        "!./bubblesort"
      ],
      "metadata": {
        "colab": {
          "base_uri": "https://localhost:8080/"
        },
        "id": "XOKVah8uw9NK",
        "outputId": "b81d7db1-a972-4d13-fac2-59c066350936"
      },
      "execution_count": 9,
      "outputs": [
        {
          "output_type": "stream",
          "name": "stdout",
          "text": [
            "Sequential Bubble Sort took 3.9e-07 seconds\n",
            "Parallel Bubble Sort took 0.111814 seconds\n",
            "Sorted Array: 11 12 22 25 34 64 90 \n"
          ]
        }
      ]
    }
  ]
}