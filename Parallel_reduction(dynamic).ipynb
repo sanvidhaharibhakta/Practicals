{
  "nbformat": 4,
  "nbformat_minor": 0,
  "metadata": {
    "colab": {
      "provenance": [],
      "gpuType": "T4",
      "authorship_tag": "ABX9TyNPy2Id1tjjLRcf0o4K0aL7",
      "include_colab_link": true
    },
    "kernelspec": {
      "name": "python3",
      "display_name": "Python 3"
    },
    "language_info": {
      "name": "python"
    },
    "accelerator": "GPU"
  },
  "cells": [
    {
      "cell_type": "markdown",
      "metadata": {
        "id": "view-in-github",
        "colab_type": "text"
      },
      "source": [
        "<a href=\"https://colab.research.google.com/github/sanvidhaharibhakta/Practicals/blob/main/Parallel_reduction(dynamic).ipynb\" target=\"_parent\"><img src=\"https://colab.research.google.com/assets/colab-badge.svg\" alt=\"Open In Colab\"/></a>"
      ]
    },
    {
      "cell_type": "code",
      "execution_count": 1,
      "metadata": {
        "colab": {
          "base_uri": "https://localhost:8080/"
        },
        "id": "YM5FgO_N4xjR",
        "outputId": "faa178e0-f356-4d2f-e15b-a916448b61d7"
      },
      "outputs": [
        {
          "output_type": "stream",
          "name": "stdout",
          "text": [
            "nvcc: NVIDIA (R) Cuda compiler driver\n",
            "Copyright (c) 2005-2023 NVIDIA Corporation\n",
            "Built on Tue_Aug_15_22:02:13_PDT_2023\n",
            "Cuda compilation tools, release 12.2, V12.2.140\n",
            "Build cuda_12.2.r12.2/compiler.33191640_0\n"
          ]
        }
      ],
      "source": [
        "!nvcc --version"
      ]
    },
    {
      "cell_type": "code",
      "source": [
        "!pip install git+https://github.com/afnan47/cuda.git"
      ],
      "metadata": {
        "colab": {
          "base_uri": "https://localhost:8080/"
        },
        "id": "NxXsjweI5ILO",
        "outputId": "54ced7b7-7724-4947-c0bf-03b640117c4b"
      },
      "execution_count": 2,
      "outputs": [
        {
          "output_type": "stream",
          "name": "stdout",
          "text": [
            "Collecting git+https://github.com/afnan47/cuda.git\n",
            "  Cloning https://github.com/afnan47/cuda.git to /tmp/pip-req-build-cz0fhmru\n",
            "  Running command git clone --filter=blob:none --quiet https://github.com/afnan47/cuda.git /tmp/pip-req-build-cz0fhmru\n",
            "  Resolved https://github.com/afnan47/cuda.git to commit aac710a35f52bb78ab34d2e52517237941399eff\n",
            "  Preparing metadata (setup.py) ... \u001b[?25l\u001b[?25hdone\n",
            "Building wheels for collected packages: NVCCPlugin\n",
            "  Building wheel for NVCCPlugin (setup.py) ... \u001b[?25l\u001b[?25hdone\n",
            "  Created wheel for NVCCPlugin: filename=NVCCPlugin-0.0.2-py3-none-any.whl size=4289 sha256=20944a2b0992b3de555da61b8d705d1b19d8d5e25c0978bb0862f4a0e9a98965\n",
            "  Stored in directory: /tmp/pip-ephem-wheel-cache-tgofv8if/wheels/aa/f3/44/e10c1d226ec561d971fcd4b0463f6bff08602afa928a3e7bc7\n",
            "Successfully built NVCCPlugin\n",
            "Installing collected packages: NVCCPlugin\n",
            "Successfully installed NVCCPlugin-0.0.2\n"
          ]
        }
      ]
    },
    {
      "cell_type": "code",
      "source": [
        "%load_ext nvcc_plugin"
      ],
      "metadata": {
        "colab": {
          "base_uri": "https://localhost:8080/"
        },
        "id": "KaXWd0r65S4l",
        "outputId": "22665c29-c1eb-4a7e-cc62-64131db43cd1"
      },
      "execution_count": 3,
      "outputs": [
        {
          "output_type": "stream",
          "name": "stdout",
          "text": [
            "created output directory at /content/src\n",
            "Out bin /content/result.out\n"
          ]
        }
      ]
    },
    {
      "cell_type": "code",
      "source": [
        "%%writefile sum.cu\n",
        "#include <iostream>\n",
        "#include <vector>\n",
        "#include <climits>\n",
        "__global__ void min_reduction_kernel(int* arr, int size, int* result) {\n",
        "int tid = blockIdx.x * blockDim.x + threadIdx.x;\n",
        "if (tid < size) {\n",
        "atomicMin(result, arr[tid]);\n",
        "}\n",
        "}\n",
        "__global__ void max_reduction_kernel(int* arr, int size, int* result) {\n",
        "int tid = blockIdx.x * blockDim.x + threadIdx.x;\n",
        "if (tid < size) {\n",
        "atomicMax(result, arr[tid]);\n",
        "}\n",
        "}\n",
        "__global__ void sum_reduction_kernel(int* arr, int size, int* result) {\n",
        "int tid = blockIdx.x * blockDim.x + threadIdx.x;\n",
        "if (tid < size) {\n",
        "atomicAdd(result, arr[tid]);\n",
        "}\n",
        "}\n",
        "__global__ void average_reduction_kernel(int* arr, int size, int* sum) {\n",
        "int tid = blockIdx.x * blockDim.x + threadIdx.x;\n",
        "if (tid < size) {\n",
        "atomicAdd(sum, arr[tid]);\n",
        "}\n",
        "}\n",
        "int main() {\n",
        "int size;\n",
        "std::cout << \"Enter the size of the array: \";\n",
        "std::cin >> size;\n",
        "std::vector<int> arr(size);\n",
        "for (int i = 0; i < size; ++i) {\n",
        "std::cout << \"Enter element \" << i << \": \";\n",
        "std::cin >> arr[i];\n",
        "}\n",
        "int* d_arr;\n",
        "int* d_result;\n",
        "int result_min = INT_MAX;\n",
        "int result_max = INT_MIN;\n",
        "int result_sum = 0;\n",
        "// Allocate memory on the device\n",
        "cudaMalloc(&d_arr, size * sizeof(int));\n",
        "cudaMalloc(&d_result, sizeof(int));\n",
        "// Copy data from host to device\n",
        "cudaMemcpy(d_arr, arr.data(), size * sizeof(int),\n",
        "cudaMemcpyHostToDevice);\n",
        "cudaMemcpy(d_result, &result_min, sizeof(int), cudaMemcpyHostToDevice);\n",
        "// Perform min reduction\n",
        "min_reduction_kernel<<<(size + 255) / 256, 256>>>(d_arr, size,\n",
        "d_result);\n",
        "cudaMemcpy(&result_min, d_result, sizeof(int), cudaMemcpyDeviceToHost);\n",
        "std::cout << \"Minimum value: \" << result_min << std::endl;\n",
        "// Perform max reduction\n",
        "cudaMemcpy(d_result, &result_max, sizeof(int), cudaMemcpyHostToDevice);\n",
        "max_reduction_kernel<<<(size + 255) / 256, 256>>>(d_arr, size,\n",
        "d_result);\n",
        "cudaMemcpy(&result_max, d_result, sizeof(int), cudaMemcpyDeviceToHost);\n",
        "std::cout << \"Maximum value: \" << result_max << std::endl;\n",
        "// Perform sum reduction\n",
        "cudaMemcpy(d_result, &result_sum, sizeof(int), cudaMemcpyHostToDevice);\n",
        "sum_reduction_kernel<<<(size + 255) / 256, 256>>>(d_arr, size,\n",
        "d_result);\n",
        "cudaMemcpy(&result_sum, d_result, sizeof(int), cudaMemcpyDeviceToHost);\n",
        "std::cout << \"Sum: \" << result_sum << std::endl;\n",
        "// Perform average reduction on CPU side\n",
        "double average = static_cast<double>(result_sum) / size;\n",
        "std::cout << \"Average: \" << average << std::endl;\n",
        "// Free device memory\n",
        "cudaFree(d_arr);\n",
        "cudaFree(d_result);\n",
        "return 0;\n",
        "}\n"
      ],
      "metadata": {
        "colab": {
          "base_uri": "https://localhost:8080/"
        },
        "id": "8t1S4oal5WBW",
        "outputId": "8d47bea8-562b-40b3-d278-71c7ef71e47c"
      },
      "execution_count": 4,
      "outputs": [
        {
          "output_type": "stream",
          "name": "stdout",
          "text": [
            "Writing sum.cu\n"
          ]
        }
      ]
    },
    {
      "cell_type": "code",
      "source": [
        "!nvcc sum.cu -o sum"
      ],
      "metadata": {
        "id": "Rw5NPUXI5eRy"
      },
      "execution_count": 5,
      "outputs": []
    },
    {
      "cell_type": "code",
      "source": [
        "!./sum"
      ],
      "metadata": {
        "colab": {
          "base_uri": "https://localhost:8080/"
        },
        "id": "DrZYgeRw5pmE",
        "outputId": "28d4ec65-8267-411c-bdf7-8b91a1fd1128"
      },
      "execution_count": 6,
      "outputs": [
        {
          "output_type": "stream",
          "name": "stdout",
          "text": [
            "Enter the size of the array: 4\n",
            "Enter element 0: 3\n",
            "Enter element 1: 2\n",
            "Enter element 2: 1\n",
            "Enter element 3: 5\n",
            "Minimum value: 1\n",
            "Maximum value: 5\n",
            "Sum: 11\n",
            "Average: 2.75\n"
          ]
        }
      ]
    }
  ]
}