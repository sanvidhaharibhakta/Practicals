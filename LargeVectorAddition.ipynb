{
  "nbformat": 4,
  "nbformat_minor": 0,
  "metadata": {
    "colab": {
      "provenance": [],
      "gpuType": "T4",
      "authorship_tag": "ABX9TyMfIkLrgvtAf4ogKM2PBK4n",
      "include_colab_link": true
    },
    "kernelspec": {
      "name": "python3",
      "display_name": "Python 3"
    },
    "language_info": {
      "name": "python"
    },
    "accelerator": "GPU"
  },
  "cells": [
    {
      "cell_type": "markdown",
      "metadata": {
        "id": "view-in-github",
        "colab_type": "text"
      },
      "source": [
        "<a href=\"https://colab.research.google.com/github/sanvidhaharibhakta/Practicals/blob/main/LargeVectorAddition.ipynb\" target=\"_parent\"><img src=\"https://colab.research.google.com/assets/colab-badge.svg\" alt=\"Open In Colab\"/></a>"
      ]
    },
    {
      "cell_type": "code",
      "source": [
        "!nvcc --version"
      ],
      "metadata": {
        "colab": {
          "base_uri": "https://localhost:8080/"
        },
        "id": "ID0QH-EmS5sr",
        "outputId": "76ef2a7f-b426-47b4-d6ee-aba19a382b55"
      },
      "execution_count": 1,
      "outputs": [
        {
          "output_type": "stream",
          "name": "stdout",
          "text": [
            "nvcc: NVIDIA (R) Cuda compiler driver\n",
            "Copyright (c) 2005-2023 NVIDIA Corporation\n",
            "Built on Tue_Aug_15_22:02:13_PDT_2023\n",
            "Cuda compilation tools, release 12.2, V12.2.140\n",
            "Build cuda_12.2.r12.2/compiler.33191640_0\n"
          ]
        }
      ]
    },
    {
      "cell_type": "code",
      "source": [
        "!pip install git+https://github.com/afnan47/cuda.git"
      ],
      "metadata": {
        "colab": {
          "base_uri": "https://localhost:8080/"
        },
        "id": "EWIPjXkKWFHT",
        "outputId": "a7eefa64-482b-4bbf-b1fe-8cad3ce00cc3"
      },
      "execution_count": 2,
      "outputs": [
        {
          "output_type": "stream",
          "name": "stdout",
          "text": [
            "Collecting git+https://github.com/afnan47/cuda.git\n",
            "  Cloning https://github.com/afnan47/cuda.git to /tmp/pip-req-build-n8um7842\n",
            "  Running command git clone --filter=blob:none --quiet https://github.com/afnan47/cuda.git /tmp/pip-req-build-n8um7842\n",
            "  Resolved https://github.com/afnan47/cuda.git to commit aac710a35f52bb78ab34d2e52517237941399eff\n",
            "  Preparing metadata (setup.py) ... \u001b[?25l\u001b[?25hdone\n",
            "Building wheels for collected packages: NVCCPlugin\n",
            "  Building wheel for NVCCPlugin (setup.py) ... \u001b[?25l\u001b[?25hdone\n",
            "  Created wheel for NVCCPlugin: filename=NVCCPlugin-0.0.2-py3-none-any.whl size=4289 sha256=75e3c220e1b516c0af3e4eb5b3aa4ebb789de87cbc1b9842b976f4f91da9cb9a\n",
            "  Stored in directory: /tmp/pip-ephem-wheel-cache-b5c6y402/wheels/aa/f3/44/e10c1d226ec561d971fcd4b0463f6bff08602afa928a3e7bc7\n",
            "Successfully built NVCCPlugin\n",
            "Installing collected packages: NVCCPlugin\n",
            "Successfully installed NVCCPlugin-0.0.2\n"
          ]
        }
      ]
    },
    {
      "cell_type": "code",
      "source": [
        "%load_ext nvcc_plugin"
      ],
      "metadata": {
        "colab": {
          "base_uri": "https://localhost:8080/"
        },
        "id": "stzIF0vFXGFi",
        "outputId": "9a54841d-af42-4a5d-e376-52faf2dd5bf9"
      },
      "execution_count": 3,
      "outputs": [
        {
          "output_type": "stream",
          "name": "stdout",
          "text": [
            "created output directory at /content/src\n",
            "Out bin /content/result.out\n"
          ]
        }
      ]
    },
    {
      "cell_type": "code",
      "source": [
        "%%writefile add.cu\n",
        "#include <iostream>\n",
        "#include <cstdlib> // Include <cstdlib> for rand()\n",
        "using namespace std;\n",
        "__global__\n",
        "void add(int* A, int* B, int* C, int size) {\n",
        "int tid = blockIdx.x * blockDim.x + threadIdx.x;\n",
        "if (tid < size) {\n",
        "C[tid] = A[tid] + B[tid];\n",
        "}\n",
        "}\n",
        "void print(int* vector, int size) {\n",
        "for (int i = 0; i < size; i++) {\n",
        "cout << vector[i] << \" \";\n",
        "}\n",
        "cout << endl;\n",
        "}\n",
        "int main() {\n",
        "int N;\n",
        "cout << \"Enter the size of the vectors: \";\n",
        "cin >> N;\n",
        "int* A, * B, * C;\n",
        "int vectorSize = N;\n",
        "size_t vectorBytes = vectorSize * sizeof(int);\n",
        "// Allocate host memory\n",
        "A = new int[vectorSize];\n",
        "B = new int[vectorSize];\n",
        "C = new int[vectorSize];\n",
        "// Initialize host arrays\n",
        "cout << \"Enter elements of vector A:\" << endl;\n",
        "for (int i = 0; i < N; i++) {\n",
        "cin >> A[i];\n",
        "}\n",
        "cout << \"Enter elements of vector B:\" << endl;\n",
        "for (int i = 0; i < N; i++) {\n",
        "cin >> B[i];\n",
        "}\n",
        "cout << \"Vector A: \";\n",
        "print(A, N);\n",
        "cout << \"Vector B: \";\n",
        "print(B, N);\n",
        "int* X, * Y, * Z;\n",
        "// Allocate device memory\n",
        "cudaMalloc(&X, vectorBytes);\n",
        "cudaMalloc(&Y, vectorBytes);\n",
        "cudaMalloc(&Z, vectorBytes);\n",
        "// Check for CUDA memory allocation errors\n",
        "if (X == nullptr || Y == nullptr || Z == nullptr) {\n",
        "cerr << \"CUDA memory allocation failed\" << endl;\n",
        "return 1;\n",
        "}\n",
        "// Copy data from host to device\n",
        "cudaMemcpy(X, A, vectorBytes, cudaMemcpyHostToDevice);\n",
        "cudaMemcpy(Y, B, vectorBytes, cudaMemcpyHostToDevice);\n",
        "int threadsPerBlock = 256;\n",
        "int blocksPerGrid = (N + threadsPerBlock - 1) / threadsPerBlock;\n",
        "// Launch kernel\n",
        "add<<<blocksPerGrid, threadsPerBlock>>>(X, Y, Z, N);\n",
        "// Check for kernel launch errors\n",
        "cudaError_t kernelLaunchError = cudaGetLastError();\n",
        "if (kernelLaunchError != cudaSuccess) {\n",
        "cerr << \"CUDA kernel launch failed: \" <<\n",
        "cudaGetErrorString(kernelLaunchError) << endl;\n",
        "return 1;\n",
        "}\n",
        "// Copy result from device to host\n",
        "cudaMemcpy(C, Z, vectorBytes, cudaMemcpyDeviceToHost);\n",
        "// Check for CUDA memcpy errors\n",
        "cudaError_t memcpyError = cudaGetLastError();\n",
        "if (memcpyError != cudaSuccess) {\n",
        "cerr << \"CUDA memcpy failed: \" << cudaGetErrorString(memcpyError) <<\n",
        "endl;\n",
        "return 1;\n",
        "}\n",
        "cout << \"Addition: \";\n",
        "print(C, N);\n",
        "// Free device memory\n",
        "cudaFree(X);\n",
        "cudaFree(Y);\n",
        "cudaFree(Z);\n",
        "// Free host memory\n",
        "delete[] A;\n",
        "delete[] B;\n",
        "delete[] C;\n",
        "return 0;\n",
        "}"
      ],
      "metadata": {
        "colab": {
          "base_uri": "https://localhost:8080/"
        },
        "id": "NfZrfs6YXIQ6",
        "outputId": "ee594617-9c42-447c-b983-ae1a0edcb491"
      },
      "execution_count": 1,
      "outputs": [
        {
          "output_type": "stream",
          "name": "stdout",
          "text": [
            "Writing add.cu\n"
          ]
        }
      ]
    },
    {
      "cell_type": "code",
      "source": [
        "!nvcc add.cu -o add"
      ],
      "metadata": {
        "id": "Hu6xb9kniIWx"
      },
      "execution_count": 2,
      "outputs": []
    },
    {
      "cell_type": "code",
      "source": [
        "!./add"
      ],
      "metadata": {
        "colab": {
          "base_uri": "https://localhost:8080/"
        },
        "id": "6snYAcmBiUoh",
        "outputId": "5952a0e3-8de8-410f-8d11-26c64a5ae151"
      },
      "execution_count": 3,
      "outputs": [
        {
          "output_type": "stream",
          "name": "stdout",
          "text": [
            "Enter the size of the vectors: 7\n",
            "Enter elements of vector A:\n",
            "1\n",
            "2\n",
            "3\n",
            "4\n",
            "5\n",
            "6\n",
            "7\n",
            "Enter elements of vector B:\n",
            "0\n",
            "9\n",
            "8\n",
            "7\n",
            "6\n",
            "5\n",
            "4\n",
            "Vector A: 1 2 3 4 5 6 7 \n",
            "Vector B: 0 9 8 7 6 5 4 \n",
            "Addition: 1 11 11 11 11 11 11 \n"
          ]
        }
      ]
    }
  ]
}