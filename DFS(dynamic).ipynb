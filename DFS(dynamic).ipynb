{
  "nbformat": 4,
  "nbformat_minor": 0,
  "metadata": {
    "colab": {
      "provenance": [],
      "authorship_tag": "ABX9TyOvReKZEn1Yckthk/+9s3+6",
      "include_colab_link": true
    },
    "kernelspec": {
      "name": "python3",
      "display_name": "Python 3"
    },
    "language_info": {
      "name": "python"
    }
  },
  "cells": [
    {
      "cell_type": "markdown",
      "metadata": {
        "id": "view-in-github",
        "colab_type": "text"
      },
      "source": [
        "<a href=\"https://colab.research.google.com/github/sanvidhaharibhakta/Practicals/blob/main/DFS(dynamic).ipynb\" target=\"_parent\"><img src=\"https://colab.research.google.com/assets/colab-badge.svg\" alt=\"Open In Colab\"/></a>"
      ]
    },
    {
      "cell_type": "code",
      "execution_count": 1,
      "metadata": {
        "colab": {
          "base_uri": "https://localhost:8080/"
        },
        "id": "E07H3Bxy2bpo",
        "outputId": "5871f044-5f89-4f60-fe98-f0045cf17ad9"
      },
      "outputs": [
        {
          "output_type": "stream",
          "name": "stdout",
          "text": [
            "nvcc: NVIDIA (R) Cuda compiler driver\n",
            "Copyright (c) 2005-2023 NVIDIA Corporation\n",
            "Built on Tue_Aug_15_22:02:13_PDT_2023\n",
            "Cuda compilation tools, release 12.2, V12.2.140\n",
            "Build cuda_12.2.r12.2/compiler.33191640_0\n"
          ]
        }
      ],
      "source": [
        "!nvcc --version"
      ]
    },
    {
      "cell_type": "code",
      "source": [
        "!pip install git+https://github.com/afnan47/cuda.git"
      ],
      "metadata": {
        "colab": {
          "base_uri": "https://localhost:8080/"
        },
        "id": "8YF6zyWX2m3I",
        "outputId": "82c13a15-2a64-41d1-f885-48befe76d4fb"
      },
      "execution_count": 2,
      "outputs": [
        {
          "output_type": "stream",
          "name": "stdout",
          "text": [
            "Collecting git+https://github.com/afnan47/cuda.git\n",
            "  Cloning https://github.com/afnan47/cuda.git to /tmp/pip-req-build-yvdo9rbr\n",
            "  Running command git clone --filter=blob:none --quiet https://github.com/afnan47/cuda.git /tmp/pip-req-build-yvdo9rbr\n",
            "  Resolved https://github.com/afnan47/cuda.git to commit aac710a35f52bb78ab34d2e52517237941399eff\n",
            "  Preparing metadata (setup.py) ... \u001b[?25l\u001b[?25hdone\n",
            "Building wheels for collected packages: NVCCPlugin\n",
            "  Building wheel for NVCCPlugin (setup.py) ... \u001b[?25l\u001b[?25hdone\n",
            "  Created wheel for NVCCPlugin: filename=NVCCPlugin-0.0.2-py3-none-any.whl size=4289 sha256=770018422d64493f0cb1af8d1b6306f825320545ca07ee59053b6711ba660373\n",
            "  Stored in directory: /tmp/pip-ephem-wheel-cache-byy6iryr/wheels/aa/f3/44/e10c1d226ec561d971fcd4b0463f6bff08602afa928a3e7bc7\n",
            "Successfully built NVCCPlugin\n",
            "Installing collected packages: NVCCPlugin\n",
            "Successfully installed NVCCPlugin-0.0.2\n"
          ]
        }
      ]
    },
    {
      "cell_type": "code",
      "source": [
        "%load_ext nvcc_plugin"
      ],
      "metadata": {
        "colab": {
          "base_uri": "https://localhost:8080/"
        },
        "id": "H70OE_xt2wjW",
        "outputId": "faecf84e-41ed-4a66-d46c-8487df1cd1ff"
      },
      "execution_count": 3,
      "outputs": [
        {
          "output_type": "stream",
          "name": "stdout",
          "text": [
            "created output directory at /content/src\n",
            "Out bin /content/result.out\n"
          ]
        }
      ]
    },
    {
      "cell_type": "code",
      "source": [
        "%%writefile depthfirst.cu\n",
        "#include <iostream>\n",
        "#include <vector>\n",
        "using namespace std;\n",
        "const int MAXN = 1e5;\n",
        "vector<int> adj[MAXN+5]; // adjacency list\n",
        "bool visited[MAXN+5]; // mark visited nodes\n",
        "void dfs(int node) {\n",
        "visited[node] = true;\n",
        "cout << node << \" \"; // Print the visited node here\n",
        "for (int i = 0; i < adj[node].size(); i++) {\n",
        "int next_node = adj[node][i];\n",
        "if (!visited[next_node]) {\n",
        "dfs(next_node);\n",
        "}\n",
        "}\n",
        "}\n",
        "int main() {\n",
        "cout << \"Please enter nodes and edges: \";\n",
        "int n, m; // number of nodes and edges\n",
        "cin >> n >> m;\n",
        "for (int i = 1; i <= m; i++) {\n",
        "int u, v; // edge between u and v\n",
        "cin >> u >> v;\n",
        "adj[u].push_back(v);\n",
        "adj[v].push_back(u);\n",
        "}\n",
        "int start_node; // start node of DFS\n",
        "cout << \"Enter the start node for DFS: \";\n",
        "cin >> start_node;\n",
        "dfs(start_node);\n",
        "cout << endl; // Print a newline after DFS traversal\n",
        "return 0;\n",
        "}"
      ],
      "metadata": {
        "colab": {
          "base_uri": "https://localhost:8080/"
        },
        "id": "n25wk9Z225Vz",
        "outputId": "5674d705-db4e-4a02-f381-089853de3431"
      },
      "execution_count": 4,
      "outputs": [
        {
          "output_type": "stream",
          "name": "stdout",
          "text": [
            "Writing depthfirst.cu\n"
          ]
        }
      ]
    },
    {
      "cell_type": "code",
      "source": [
        "!nvcc depthfirst.cu -o depthfirst"
      ],
      "metadata": {
        "id": "ITuZ9lOB3Fxt"
      },
      "execution_count": 5,
      "outputs": []
    },
    {
      "cell_type": "code",
      "source": [
        "!./depthfirst"
      ],
      "metadata": {
        "colab": {
          "base_uri": "https://localhost:8080/"
        },
        "id": "uueB6xrN3NIF",
        "outputId": "ee62b1fb-2fbc-4719-9129-1af8dc338345"
      },
      "execution_count": 8,
      "outputs": [
        {
          "output_type": "stream",
          "name": "stdout",
          "text": [
            "Please enter nodes and edges: 5 4\n",
            "1 2\n",
            "1 3\n",
            "2 4\n",
            "3 5\n",
            "Enter the start node for DFS: 1\n",
            "1 2 4 3 5 \n"
          ]
        }
      ]
    }
  ]
}