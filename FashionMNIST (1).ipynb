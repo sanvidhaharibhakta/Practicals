{
 "cells": [
  {
   "cell_type": "code",
   "execution_count": 9,
   "id": "6b50886a-cf8f-4b8e-9a86-402a105d1e80",
   "metadata": {},
   "outputs": [],
   "source": [
    "import numpy as np\n",
    "import tensorflow as tf\n",
    "from tensorflow.keras.models import load_model\n",
    "from tensorflow.keras.preprocessing import image\n",
    "import tkinter as tk\n",
    "from tkinter import filedialog, messagebox\n",
    "from PIL import Image, ImageTk\n"
   ]
  },
  {
   "cell_type": "code",
   "execution_count": 10,
   "id": "200c4c21-38c9-4cc0-b468-d36ced684ee5",
   "metadata": {},
   "outputs": [
    {
     "name": "stderr",
     "output_type": "stream",
     "text": [
      "WARNING:absl:Compiled the loaded model, but the compiled metrics have yet to be built. `model.compile_metrics` will be empty until you train or evaluate the model.\n"
     ]
    }
   ],
   "source": [
    "model = load_model('fashion_mnist.h5')"
   ]
  },
  {
   "cell_type": "code",
   "execution_count": 11,
   "id": "127a916c-f681-47e2-b955-18b36c9b75fb",
   "metadata": {},
   "outputs": [],
   "source": [
    "model.compile(optimizer='adam', loss='categorical_crossentropy', metrics=['accuracy'])"
   ]
  },
  {
   "cell_type": "code",
   "execution_count": 12,
   "id": "efce6820-29d2-4377-be97-713bc261f9bc",
   "metadata": {},
   "outputs": [],
   "source": [
    "class_names = ['T-shirt/top', 'Trouser', 'Pullover', 'Dress', 'Coat',\n",
    "               'Sandal', 'Shirt', 'Sneaker', 'Bag', 'Ankle boot']"
   ]
  },
  {
   "cell_type": "code",
   "execution_count": 13,
   "id": "5b82eb30-0471-4470-a7cb-b5ee20ccf101",
   "metadata": {},
   "outputs": [],
   "source": [
    "def preprocess_image(file_path):\n",
    "    img = image.load_img(file_path, target_size=(28, 28), color_mode='grayscale')\n",
    "    img_array = image.img_to_array(img)\n",
    "    img_array = np.expand_dims(img_array, axis=0) / 255.0\n",
    "    return img_array"
   ]
  },
  {
   "cell_type": "code",
   "execution_count": 14,
   "id": "8906cece-8baf-4ae7-8e14-530c16c64a4e",
   "metadata": {},
   "outputs": [],
   "source": [
    "def predict_class(image_path):\n",
    "    img_array = preprocess_image(image_path)\n",
    "    print(\"Preprocessed image shape:\", img_array.shape)  # Debugging\n",
    "    prediction = model.predict(img_array)\n",
    "    print(\"Raw prediction scores:\", prediction)  # Debugging\n",
    "    predicted_class = np.argmax(prediction)\n",
    "    print(\"Predicted class index:\", predicted_class)  # Debugging\n",
    "    return class_names[predicted_class]"
   ]
  },
  {
   "cell_type": "code",
   "execution_count": 15,
   "id": "97c0850d-0917-4db3-ae5b-139cde2eba97",
   "metadata": {},
   "outputs": [],
   "source": [
    "def load_image():\n",
    "    file_path = filedialog.askopenfilename(title=\"Select Image\", filetypes=[(\"Image Files\", \"*.png; *.jpg; *.jpeg\")])\n",
    "    if file_path:\n",
    "        img = Image.open(file_path)\n",
    "        img = img.resize((28, 28))\n",
    "        img = ImageTk.PhotoImage(img)\n",
    "        image_label.config(image=img)\n",
    "        image_label.image = img\n",
    "\n",
    "        predicted_class = predict_class(file_path)\n",
    "        class_label.config(text=f\"Predicted Class: {predicted_class}\")"
   ]
  },
  {
   "cell_type": "code",
   "execution_count": 16,
   "id": "40bfbe78-4961-4fbf-841c-51e892222ea3",
   "metadata": {},
   "outputs": [
    {
     "name": "stdout",
     "output_type": "stream",
     "text": [
      "Preprocessed image shape: (1, 28, 28, 1)\n",
      "\u001b[1m1/1\u001b[0m \u001b[32m━━━━━━━━━━━━━━━━━━━━\u001b[0m\u001b[37m\u001b[0m \u001b[1m0s\u001b[0m 268ms/step\n",
      "Raw prediction scores: [[0.15534784 0.01093134 0.15933777 0.04181094 0.07623786 0.00348073\n",
      "  0.46477616 0.00123668 0.08371622 0.0031245 ]]\n",
      "Predicted class index: 6\n",
      "Preprocessed image shape: (1, 28, 28, 1)\n",
      "\u001b[1m1/1\u001b[0m \u001b[32m━━━━━━━━━━━━━━━━━━━━\u001b[0m\u001b[37m\u001b[0m \u001b[1m0s\u001b[0m 73ms/step\n",
      "Raw prediction scores: [[1.6366549e-12 4.6293516e-16 3.7015187e-14 4.7930067e-15 1.2583498e-15\n",
      "  1.0000000e+00 3.0050899e-15 5.3315219e-09 2.8382765e-09 1.4787230e-10]]\n",
      "Predicted class index: 5\n",
      "Preprocessed image shape: (1, 28, 28, 1)\n",
      "\u001b[1m1/1\u001b[0m \u001b[32m━━━━━━━━━━━━━━━━━━━━\u001b[0m\u001b[37m\u001b[0m \u001b[1m0s\u001b[0m 83ms/step\n",
      "Raw prediction scores: [[5.9989598e-02 5.9375449e-08 1.5898760e-03 1.7843351e-05 1.1071922e-05\n",
      "  2.6765501e-06 7.2395887e-05 8.0145819e-06 9.2594868e-01 1.2359887e-02]]\n",
      "Predicted class index: 8\n",
      "Preprocessed image shape: (1, 28, 28, 1)\n",
      "\u001b[1m1/1\u001b[0m \u001b[32m━━━━━━━━━━━━━━━━━━━━\u001b[0m\u001b[37m\u001b[0m \u001b[1m0s\u001b[0m 66ms/step\n",
      "Raw prediction scores: [[0.12652804 0.17171095 0.049427   0.10758382 0.0664135  0.01943221\n",
      "  0.2538249  0.03974128 0.13339604 0.03194226]]\n",
      "Predicted class index: 6\n",
      "Preprocessed image shape: (1, 28, 28, 1)\n",
      "\u001b[1m1/1\u001b[0m \u001b[32m━━━━━━━━━━━━━━━━━━━━\u001b[0m\u001b[37m\u001b[0m \u001b[1m0s\u001b[0m 88ms/step\n",
      "Raw prediction scores: [[5.9989598e-02 5.9375449e-08 1.5898760e-03 1.7843351e-05 1.1071922e-05\n",
      "  2.6765501e-06 7.2395887e-05 8.0145819e-06 9.2594868e-01 1.2359887e-02]]\n",
      "Predicted class index: 8\n"
     ]
    }
   ],
   "source": [
    "root = tk.Tk()\n",
    "root.title(\"Fashion MNIST Classifier\")\n",
    "\n",
    "# Load Image button\n",
    "load_button = tk.Button(root, text=\"Load Image\", command=load_image)\n",
    "load_button.pack(pady=10)\n",
    "\n",
    "# Display image\n",
    "image_label = tk.Label(root)\n",
    "image_label.pack()\n",
    "\n",
    "# Predicted class label\n",
    "class_label = tk.Label(root, text=\"Predicted Class: -\", font=('Helvetica', 14))\n",
    "class_label.pack(pady=10)\n",
    "\n",
    "# Predict button\n",
    "predict_button = tk.Button(root, text=\"Predict\", command=load_image)\n",
    "predict_button.pack(pady=5)\n",
    "\n",
    "root.mainloop()"
   ]
  },
  {
   "cell_type": "code",
   "execution_count": null,
   "id": "cce3346a-80ec-490c-b311-2fcd45d23fce",
   "metadata": {},
   "outputs": [],
   "source": []
  }
 ],
 "metadata": {
  "kernelspec": {
   "display_name": "Python 3 (ipykernel)",
   "language": "python",
   "name": "python3"
  },
  "language_info": {
   "codemirror_mode": {
    "name": "ipython",
    "version": 3
   },
   "file_extension": ".py",
   "mimetype": "text/x-python",
   "name": "python",
   "nbconvert_exporter": "python",
   "pygments_lexer": "ipython3",
   "version": "3.12.1"
  }
 },
 "nbformat": 4,
 "nbformat_minor": 5
}
